{
 "cells": [
  {
   "cell_type": "code",
   "execution_count": 1,
   "metadata": {},
   "outputs": [],
   "source": [
    "import numpy as np\n",
    "import pandas as pd\n",
    "\n",
    "from imblearn.over_sampling import SMOTE\n",
    "\n",
    "from sklearn.discriminant_analysis import StandardScaler\n",
    "from sklearn.ensemble import RandomForestClassifier\n",
    "from sklearn.linear_model import LogisticRegression\n",
    "from sklearn.metrics import classification_report, confusion_matrix, f1_score, accuracy_score, roc_auc_score, precision_score, recall_score\n",
    "from sklearn.experimental import enable_halving_search_cv\n",
    "from sklearn.model_selection import cross_val_score, train_test_split, HalvingGridSearchCV, StratifiedKFold\n",
    "from sklearn.pipeline import Pipeline\n",
    "from sklearn.naive_bayes import GaussianNB\n",
    "from sklearn.neighbors import KNeighborsClassifier\n",
    "\n",
    "from xgboost import XGBClassifier\n",
    "\n",
    "import plotly.graph_objs as go\n",
    "import plotly.express as ex\n",
    "\n",
    "import matplotlib\n",
    "import matplotlib.pyplot as plt\n",
    "import seaborn as sns"
   ]
  },
  {
   "cell_type": "markdown",
   "metadata": {},
   "source": [
    "## Carregando o dataset"
   ]
  },
  {
   "cell_type": "code",
   "execution_count": 2,
   "metadata": {},
   "outputs": [
    {
     "data": {
      "text/html": [
       "<div>\n",
       "<style scoped>\n",
       "    .dataframe tbody tr th:only-of-type {\n",
       "        vertical-align: middle;\n",
       "    }\n",
       "\n",
       "    .dataframe tbody tr th {\n",
       "        vertical-align: top;\n",
       "    }\n",
       "\n",
       "    .dataframe thead th {\n",
       "        text-align: right;\n",
       "    }\n",
       "</style>\n",
       "<table border=\"1\" class=\"dataframe\">\n",
       "  <thead>\n",
       "    <tr style=\"text-align: right;\">\n",
       "      <th></th>\n",
       "      <th>reg_not</th>\n",
       "      <th>cs_sexo</th>\n",
       "      <th>cs_raca</th>\n",
       "      <th>cs_escol_n</th>\n",
       "      <th>tratamento</th>\n",
       "      <th>raiox_tora</th>\n",
       "      <th>agravaids</th>\n",
       "      <th>agravalcoo</th>\n",
       "      <th>agravdiabe</th>\n",
       "      <th>agravdoenc</th>\n",
       "      <th>hiv</th>\n",
       "      <th>tratsup_at</th>\n",
       "      <th>benef_gov</th>\n",
       "      <th>agravdroga</th>\n",
       "      <th>agravtabac</th>\n",
       "      <th>idade</th>\n",
       "      <th>abandono</th>\n",
       "    </tr>\n",
       "  </thead>\n",
       "  <tbody>\n",
       "    <tr>\n",
       "      <th>0</th>\n",
       "      <td>4</td>\n",
       "      <td>1</td>\n",
       "      <td>1</td>\n",
       "      <td>1</td>\n",
       "      <td>1</td>\n",
       "      <td>0</td>\n",
       "      <td>0</td>\n",
       "      <td>1</td>\n",
       "      <td>0</td>\n",
       "      <td>0</td>\n",
       "      <td>0</td>\n",
       "      <td>1</td>\n",
       "      <td>0</td>\n",
       "      <td>0</td>\n",
       "      <td>1</td>\n",
       "      <td>60</td>\n",
       "      <td>0</td>\n",
       "    </tr>\n",
       "    <tr>\n",
       "      <th>1</th>\n",
       "      <td>1</td>\n",
       "      <td>1</td>\n",
       "      <td>1</td>\n",
       "      <td>0</td>\n",
       "      <td>1</td>\n",
       "      <td>1</td>\n",
       "      <td>0</td>\n",
       "      <td>1</td>\n",
       "      <td>0</td>\n",
       "      <td>0</td>\n",
       "      <td>2</td>\n",
       "      <td>0</td>\n",
       "      <td>0</td>\n",
       "      <td>1</td>\n",
       "      <td>1</td>\n",
       "      <td>37</td>\n",
       "      <td>1</td>\n",
       "    </tr>\n",
       "    <tr>\n",
       "      <th>2</th>\n",
       "      <td>2</td>\n",
       "      <td>1</td>\n",
       "      <td>1</td>\n",
       "      <td>0</td>\n",
       "      <td>1</td>\n",
       "      <td>2</td>\n",
       "      <td>0</td>\n",
       "      <td>0</td>\n",
       "      <td>0</td>\n",
       "      <td>0</td>\n",
       "      <td>2</td>\n",
       "      <td>0</td>\n",
       "      <td>0</td>\n",
       "      <td>1</td>\n",
       "      <td>1</td>\n",
       "      <td>22</td>\n",
       "      <td>1</td>\n",
       "    </tr>\n",
       "    <tr>\n",
       "      <th>3</th>\n",
       "      <td>2</td>\n",
       "      <td>1</td>\n",
       "      <td>1</td>\n",
       "      <td>1</td>\n",
       "      <td>1</td>\n",
       "      <td>1</td>\n",
       "      <td>0</td>\n",
       "      <td>1</td>\n",
       "      <td>0</td>\n",
       "      <td>0</td>\n",
       "      <td>0</td>\n",
       "      <td>1</td>\n",
       "      <td>0</td>\n",
       "      <td>1</td>\n",
       "      <td>1</td>\n",
       "      <td>37</td>\n",
       "      <td>0</td>\n",
       "    </tr>\n",
       "    <tr>\n",
       "      <th>4</th>\n",
       "      <td>3</td>\n",
       "      <td>1</td>\n",
       "      <td>1</td>\n",
       "      <td>1</td>\n",
       "      <td>0</td>\n",
       "      <td>1</td>\n",
       "      <td>0</td>\n",
       "      <td>1</td>\n",
       "      <td>0</td>\n",
       "      <td>0</td>\n",
       "      <td>0</td>\n",
       "      <td>1</td>\n",
       "      <td>1</td>\n",
       "      <td>1</td>\n",
       "      <td>1</td>\n",
       "      <td>22</td>\n",
       "      <td>1</td>\n",
       "    </tr>\n",
       "  </tbody>\n",
       "</table>\n",
       "</div>"
      ],
      "text/plain": [
       "   reg_not  cs_sexo  cs_raca  cs_escol_n  tratamento  raiox_tora  agravaids  \\\n",
       "0        4        1        1           1           1           0          0   \n",
       "1        1        1        1           0           1           1          0   \n",
       "2        2        1        1           0           1           2          0   \n",
       "3        2        1        1           1           1           1          0   \n",
       "4        3        1        1           1           0           1          0   \n",
       "\n",
       "   agravalcoo  agravdiabe  agravdoenc  hiv  tratsup_at  benef_gov  agravdroga  \\\n",
       "0           1           0           0    0           1          0           0   \n",
       "1           1           0           0    2           0          0           1   \n",
       "2           0           0           0    2           0          0           1   \n",
       "3           1           0           0    0           1          0           1   \n",
       "4           1           0           0    0           1          1           1   \n",
       "\n",
       "   agravtabac  idade  abandono  \n",
       "0           1     60         0  \n",
       "1           1     37         1  \n",
       "2           1     22         1  \n",
       "3           1     37         0  \n",
       "4           1     22         1  "
      ]
     },
     "execution_count": 2,
     "metadata": {},
     "output_type": "execute_result"
    }
   ],
   "source": [
    "df = pd.read_csv('data/tuberculose_imputed.csv')\n",
    "df.head()"
   ]
  },
  {
   "cell_type": "code",
   "execution_count": 3,
   "metadata": {},
   "outputs": [
    {
     "name": "stdout",
     "output_type": "stream",
     "text": [
      "<class 'pandas.core.frame.DataFrame'>\n",
      "RangeIndex: 243726 entries, 0 to 243725\n",
      "Data columns (total 17 columns):\n",
      " #   Column      Non-Null Count   Dtype\n",
      "---  ------      --------------   -----\n",
      " 0   reg_not     243726 non-null  int8 \n",
      " 1   cs_sexo     243726 non-null  int8 \n",
      " 2   cs_raca     243726 non-null  int8 \n",
      " 3   cs_escol_n  243726 non-null  int8 \n",
      " 4   tratamento  243726 non-null  int8 \n",
      " 5   raiox_tora  243726 non-null  int8 \n",
      " 6   agravaids   243726 non-null  int8 \n",
      " 7   agravalcoo  243726 non-null  int8 \n",
      " 8   agravdiabe  243726 non-null  int8 \n",
      " 9   agravdoenc  243726 non-null  int8 \n",
      " 10  hiv         243726 non-null  int8 \n",
      " 11  tratsup_at  243726 non-null  int8 \n",
      " 12  benef_gov   243726 non-null  int8 \n",
      " 13  agravdroga  243726 non-null  int8 \n",
      " 14  agravtabac  243726 non-null  int8 \n",
      " 15  idade       243726 non-null  int8 \n",
      " 16  abandono    243726 non-null  int8 \n",
      "dtypes: int8(17)\n",
      "memory usage: 4.0 MB\n"
     ]
    }
   ],
   "source": [
    "# Otimização de memória\n",
    "for column in df.columns:\n",
    "    df[column] = df[column].astype(np.int8)\n",
    "df.info()"
   ]
  },
  {
   "cell_type": "markdown",
   "metadata": {},
   "source": [
    "## Separando conjuntos de treino e teste"
   ]
  },
  {
   "cell_type": "code",
   "execution_count": 9,
   "metadata": {},
   "outputs": [
    {
     "name": "stdout",
     "output_type": "stream",
     "text": [
      "(170608, 16) (73118, 16)\n"
     ]
    }
   ],
   "source": [
    "# Separando variáveis independentes e dependentes\n",
    "X = df.drop('abandono', axis=1)\n",
    "y = df['abandono']\n",
    "\n",
    "# Dividindo os dados em treino e teste\n",
    "X_train, X_test, y_train, y_test = train_test_split(X, y, train_size=0.7, random_state=42)\n",
    "print(X_train.shape, X_test.shape)"
   ]
  },
  {
   "cell_type": "code",
   "execution_count": 26,
   "metadata": {},
   "outputs": [
    {
     "data": {
      "image/png": "[encoded data removed]",
      "text/plain": [
       "<Figure size 400x400 with 1 Axes>"
      ]
     },
     "metadata": {},
     "output_type": "display_data"
    }
   ],
   "source": [
    "counts = df['abandono'].value_counts()\n",
    "\n",
    "# Plotar o gráfico de pizza\n",
    "plt.figure(figsize=(4, 4))\n",
    "plt.pie(counts, labels=['0', '1'], autopct='%1.1f%%', startangle=90, colors=['lightcoral', 'lightblue'])\n",
    "plt.title('Proporção de Abandono no dataset', fontweight='bold')\n",
    "plt.show()"
   ]
  },
  {
   "cell_type": "markdown",
   "metadata": {},
   "source": [
    "O dataset é desbalanceado, portanto devemos levar isso em conta no treinamento dos modelos. Faremos, primeiramente, validação cruzada usando `StratifiedKFold`, no qual os dados são estratificados de acordo com as classes. Depois, a outra estratégia será balancear o conjunto de treino usando a técnica de oversampling SMOTE e realizar validação cruzada. Por fim, vamos comparar os resultados para saber qual será a melhor forma de lidar com o dataset desbalanceado."
   ]
  },
  {
   "cell_type": "code",
   "execution_count": 10,
   "metadata": {},
   "outputs": [
    {
     "name": "stdout",
     "output_type": "stream",
     "text": [
      "(283288, 16)\n"
     ]
    }
   ],
   "source": [
    "oversample = SMOTE()\n",
    "X_train_resh, y_train_resh = oversample.fit_resample(X_train, y_train)\n",
    "print(X_train_resh.shape)"
   ]
  },
  {
   "cell_type": "code",
   "execution_count": 29,
   "metadata": {},
   "outputs": [
    {
     "data": {
      "image/png": "[encoded data removed]",
      "text/plain": [
       "<Figure size 400x400 with 1 Axes>"
      ]
     },
     "metadata": {},
     "output_type": "display_data"
    }
   ],
   "source": [
    "upsampled_df = pd.concat([X_train_resh, y_train_resh], axis=1)\n",
    "counts = upsampled_df['abandono'].value_counts()\n",
    "\n",
    "# Plotar o gráfico de pizza\n",
    "plt.figure(figsize=(4, 4))\n",
    "plt.pie(counts, labels=['0', '1'], autopct='%1.1f%%', startangle=90, colors=['lightcoral', 'lightblue'])\n",
    "plt.title('Proporção de Abandono do conjunto de teste após o SMOTE', fontweight='bold')\n",
    "plt.show()"
   ]
  },
  {
   "cell_type": "markdown",
   "metadata": {},
   "source": [
    "## Testando modelos"
   ]
  },
  {
   "cell_type": "markdown",
   "metadata": {},
   "source": [
    "Inicialmente, definiremos pipelines para os seguintes modelos: Random Forest, Regressão Logística, Naive Bayes Gaussiano, KNN e XGBoost."
   ]
  },
  {
   "cell_type": "code",
   "execution_count": 5,
   "metadata": {},
   "outputs": [],
   "source": [
    "rf_pipeline = Pipeline(steps = [('scale',StandardScaler()),('classifier',RandomForestClassifier(random_state=42))])\n",
    "logreg_pipeline = Pipeline(steps = [('scale',StandardScaler()),('classifier',LogisticRegression(random_state=42))])\n",
    "gaussianNB_pipeline = Pipeline(steps = [('scale',StandardScaler()),('classifier',GaussianNB())])\n",
    "knn_pipeline = Pipeline(steps = [('scale',StandardScaler()),('classifier',KNeighborsClassifier(n_neighbors=5))])\n",
    "xgb_pipeline = Pipeline(steps = [('scale',StandardScaler()),('classifier',XGBClassifier(random_state=42))])"
   ]
  },
  {
   "cell_type": "markdown",
   "metadata": {},
   "source": [
    "Validação cruzada com `StratifiedKFold` no dataset original:"
   ]
  },
  {
   "cell_type": "code",
   "execution_count": 8,
   "metadata": {},
   "outputs": [
    {
     "name": "stdout",
     "output_type": "stream",
     "text": [
      "LR:\n",
      "Accuracy mean: 0.8401\n",
      "Recall mean: 0.1735\n",
      "F1 mean: 0.2692\n",
      "RF:\n",
      "Accuracy mean: 0.8451\n",
      "Recall mean: 0.3776\n",
      "F1 mean: 0.4529\n",
      "NB:\n",
      "Accuracy mean: 0.7725\n",
      "Recall mean: 0.4879\n",
      "F1 mean: 0.4213\n",
      "KNN:\n",
      "Accuracy mean: 0.8321\n",
      "Recall mean: 0.3191\n",
      "F1 mean: 0.3922\n",
      "XGB:\n",
      "Accuracy mean: 0.8416\n",
      "Recall mean: 0.2020\n",
      "F1 mean: 0.3021\n"
     ]
    }
   ],
   "source": [
    "def evaluate_pipelines_cv_strat(pipelines, X, y, n_splits=5):\n",
    "    # Configurar o StratifiedKFold\n",
    "    cross_val_strat = StratifiedKFold(n_splits=n_splits, shuffle=True, random_state=32)\n",
    "    \n",
    "    results = {}\n",
    "    # Avaliar cada pipeline\n",
    "    for name, pipeline in pipelines.items():\n",
    "        accuracies = []\n",
    "        recalls = []\n",
    "        f1s = []\n",
    "        for train_index, test_index in cross_val_strat.split(X, y):\n",
    "            X_train, X_test = X.iloc[train_index], X.iloc[test_index]\n",
    "            y_train, y_test = y.iloc[train_index], y.iloc[test_index]\n",
    "            \n",
    "            # Treinar o pipeline\n",
    "            pipeline.fit(X_train, y_train)\n",
    "            \n",
    "            # Fazer predições e avaliar o pipeline\n",
    "            y_pred = pipeline.predict(X_test)\n",
    "            accuracy = accuracy_score(y_test, y_pred)\n",
    "            recall = recall_score(y_test, y_pred)\n",
    "            f1 = f1_score(y_test, y_pred)\n",
    "\n",
    "            accuracies.append(accuracy)\n",
    "            recalls.append(recall)\n",
    "            f1s.append(f1)\n",
    "        \n",
    "        # Guardar as acurácias\n",
    "        results[name] = {'accuracy' : np.mean(accuracies),\n",
    "                         'recall' : np.mean(recalls),\n",
    "                         'f1' : np.mean(f1s)}\n",
    "    \n",
    "    return results\n",
    "\n",
    "pipelines = {\n",
    "    'LR': logreg_pipeline,\n",
    "    'RF': rf_pipeline,\n",
    "    'NB': gaussianNB_pipeline,\n",
    "    'KNN': knn_pipeline,\n",
    "    'XGB': xgb_pipeline\n",
    "}\n",
    "\n",
    "# Avaliar os modelos usando StratifiedKFold\n",
    "results = evaluate_pipelines_cv_strat(pipelines, X, y)\n",
    "\n",
    "# Resultados\n",
    "for name, result in results.items():\n",
    "    print(f'{name}:')\n",
    "    print(f'Accuracy mean: {result['accuracy']:.4f}')\n",
    "    print(f'Recall mean: {result['recall']:.4f}')\n",
    "    print(f'F1 mean: {result['f1']:.4f}')\n"
   ]
  },
  {
   "cell_type": "markdown",
   "metadata": {},
   "source": [
    "Percebe-se que os modelos apresentam acurácias relativamente altas, porém valores de recall baixos. Portanto, conclui-se que os modelos acertam muitos casos de Não-Abandono, simplesmente por ser a classe majoritária do dataset, mas são ruins para classificar Abandono.  \n",
    "Agora, vamos testar a validação cruzada para o conjunto balanceado com SMOTE."
   ]
  },
  {
   "cell_type": "code",
   "execution_count": 68,
   "metadata": {},
   "outputs": [],
   "source": [
    "rf_cv_acc = cross_val_score(rf_pipeline,X_train_resh,y_train_resh,cv=5,scoring='accuracy')\n",
    "logreg_cv_acc = cross_val_score(logreg_pipeline,X_train_resh,y_train_resh,cv=5,scoring='accuracy')\n",
    "gaussian_cv_acc = cross_val_score(gaussianNB_pipeline,X_train_resh,y_train_resh,cv=5,scoring='accuracy')\n",
    "knn_cv_acc = cross_val_score(knn_pipeline,X_train_resh,y_train_resh,cv=5,scoring='accuracy')\n",
    "xgb_cv_acc = cross_val_score(xgb_pipeline,X_train_resh,y_train_resh,cv=5,scoring='accuracy')"
   ]
  },
  {
   "cell_type": "code",
   "execution_count": 69,
   "metadata": {},
   "outputs": [
    {
     "name": "stdout",
     "output_type": "stream",
     "text": [
      "Média das acurácias obtidas na validação cruzada:\n",
      "Random Forest mean: 0.822936443102039\n",
      "Logistic Regression mean: 0.697541066291483\n",
      "Gaussian NB mean: 0.675997661655164\n",
      "KNN mean: 0.7459405515957871\n",
      "XGBoost mean: 0.7265080655164532\n"
     ]
    }
   ],
   "source": [
    "print('Média das acurácias obtidas na validação cruzada:')\n",
    "print('Random Forest mean:',rf_cv_acc.mean())\n",
    "print('Logistic Regression mean:',logreg_cv_acc.mean())\n",
    "print('Gaussian NB mean:',gaussian_cv_acc.mean())\n",
    "print('KNN mean:',knn_cv_acc.mean())\n",
    "print('XGBoost mean:',xgb_cv_acc.mean())\n"
   ]
  },
  {
   "cell_type": "code",
   "execution_count": 70,
   "metadata": {},
   "outputs": [],
   "source": [
    "rf_cv_f1 = cross_val_score(rf_pipeline,X_train_resh,y_train_resh,cv=5,scoring='f1')\n",
    "logreg_cv_f1 = cross_val_score(logreg_pipeline,X_train_resh,y_train_resh,cv=5,scoring='f1')\n",
    "gaussian_cv_f1 = cross_val_score(gaussianNB_pipeline,X_train_resh,y_train_resh,cv=5,scoring='f1')\n",
    "knn_cv_f1 = cross_val_score(knn_pipeline,X_train_resh,y_train_resh,cv=5,scoring='f1')\n",
    "xgb_cv_f1 = cross_val_score(xgb_pipeline,X_train_resh,y_train_resh,cv=5,scoring='f1')"
   ]
  },
  {
   "cell_type": "code",
   "execution_count": 71,
   "metadata": {},
   "outputs": [
    {
     "name": "stdout",
     "output_type": "stream",
     "text": [
      "Média dos f1-scores obtidos na validação cruzada:\n",
      "Random Forest mean: 0.8272354043920984\n",
      "Logistic Regression mean: 0.7004585602884809\n",
      "Gaussian NB mean: 0.6981791688424188\n",
      "KNN mean: 0.7241820172789936\n",
      "XGBoost mean: 0.7265952170843024\n"
     ]
    }
   ],
   "source": [
    "print('Média dos f1-scores obtidos na validação cruzada:')\n",
    "print('Random Forest mean:',rf_cv_f1.mean())\n",
    "print('Logistic Regression mean:',logreg_cv_f1.mean())\n",
    "print('Gaussian NB mean:',gaussian_cv_f1.mean())\n",
    "print('KNN mean:',knn_cv_f1.mean())\n",
    "print('XGBoost mean:',xgb_cv_f1.mean())"
   ]
  },
  {
   "cell_type": "code",
   "execution_count": 11,
   "metadata": {},
   "outputs": [],
   "source": [
    "rf_cv_recall = cross_val_score(rf_pipeline,X_train_resh,y_train_resh,cv=5,scoring='recall')\n",
    "logreg_cv_recall = cross_val_score(logreg_pipeline,X_train_resh,y_train_resh,cv=5,scoring='recall')\n",
    "gaussian_cv_recall = cross_val_score(gaussianNB_pipeline,X_train_resh,y_train_resh,cv=5,scoring='recall')\n",
    "knn_cv_recall = cross_val_score(knn_pipeline,X_train_resh,y_train_resh,cv=5,scoring='recall')\n",
    "xgb_cv_recall = cross_val_score(xgb_pipeline,X_train_resh,y_train_resh,cv=5,scoring='recall')"
   ]
  },
  {
   "cell_type": "code",
   "execution_count": 12,
   "metadata": {},
   "outputs": [
    {
     "name": "stdout",
     "output_type": "stream",
     "text": [
      "Média dos recalls obtidos na validação cruzada:\n",
      "Random Forest mean: 0.8542191709590071\n",
      "Logistic Regression mean: 0.7064754570317908\n",
      "Gaussian NB mean: 0.7451144641896773\n",
      "KNN mean: 0.6655771405136776\n",
      "XGBoost mean: 0.7264339758134412\n"
     ]
    }
   ],
   "source": [
    "print('Média dos recalls obtidos na validação cruzada:')\n",
    "print('Random Forest mean:',rf_cv_recall.mean())\n",
    "print('Logistic Regression mean:',logreg_cv_recall.mean())\n",
    "print('Gaussian NB mean:',gaussian_cv_recall.mean())\n",
    "print('KNN mean:',knn_cv_recall.mean())\n",
    "print('XGBoost mean:',xgb_cv_recall.mean())"
   ]
  },
  {
   "cell_type": "markdown",
   "metadata": {},
   "source": [
    "Percebe-se que utilizando dados balanceados o desempenho dos modelos é bem melhor. Além disso, a julgar pelas métricas de acurácia e F1, notamos que o Random Forest, o KNN e o XGBoost se destacaram, portanto, a partir de agora vamos utilizá-los para fazer `fit` com o conjunto de treino balanceado com SMOTE e, depois, `predict` com o conjunto de teste originalmente desbalanceado. Assim, saberemos o quão bem cada modelo consegue generalizar e, por fim, escolheremos o melhor deles."
   ]
  },
  {
   "cell_type": "code",
   "execution_count": 19,
   "metadata": {},
   "outputs": [],
   "source": [
    "rf_pipeline.fit(X_train_resh,y_train_resh)\n",
    "knn_pipeline.fit(X_train_resh,y_train_resh)\n",
    "xgb_pipeline.fit(X_train_resh,y_train_resh)\n",
    "\n",
    "rf_pred   =rf_pipeline.predict(X_test)\n",
    "knn_pred = knn_pipeline.predict(X_test)\n",
    "xgb_pred = xgb_pipeline.predict(X_test)"
   ]
  },
  {
   "cell_type": "code",
   "execution_count": 25,
   "metadata": {},
   "outputs": [
    {
     "name": "stdout",
     "output_type": "stream",
     "text": [
      "Mean f1 scores:\n",
      "RF mean : 0.4559793879218249\n",
      "KNN mean : 0.44631827330140883\n",
      "XGBoost mean : 0.4338553637286867\n",
      "======== Random Forest ========\n",
      "[[48548 12161]\n",
      " [ 5153  7256]]\n",
      "              precision    recall  f1-score   support\n",
      "\n",
      "           0       0.90      0.80      0.85     60709\n",
      "           1       0.37      0.58      0.46     12409\n",
      "\n",
      "    accuracy                           0.76     73118\n",
      "   macro avg       0.64      0.69      0.65     73118\n",
      "weighted avg       0.81      0.76      0.78     73118\n",
      "\n",
      "Accuracy Score:  0.7632046828414344\n",
      "======== KNN ========\n",
      "[[50731  9978]\n",
      " [ 5978  6431]]\n",
      "              precision    recall  f1-score   support\n",
      "\n",
      "           0       0.89      0.84      0.86     60709\n",
      "           1       0.39      0.52      0.45     12409\n",
      "\n",
      "    accuracy                           0.78     73118\n",
      "   macro avg       0.64      0.68      0.66     73118\n",
      "weighted avg       0.81      0.78      0.79     73118\n",
      "\n",
      "Accuracy Score:  0.7817774009135917\n"
     ]
    }
   ],
   "source": [
    "rf_cm  = confusion_matrix(y_test,rf_pred)\n",
    "knn_cm = confusion_matrix(y_test,knn_pred)\n",
    "xgb_cm = confusion_matrix(y_test,xgb_pred)\n",
    "\n",
    "rf_f1  = f1_score(y_test,rf_pred)\n",
    "knn_f1 = f1_score(y_test,knn_pred)\n",
    "xgb_f1 = f1_score(y_test,xgb_pred)\n",
    "\n",
    "print('Mean f1 scores:')\n",
    "\n",
    "print('RF mean :',rf_f1)\n",
    "print('KNN mean :',knn_f1)\n",
    "print('XGBoost mean :',xgb_f1)\n",
    "\n",
    "print(\"======== Random Forest ========\")\n",
    "print(rf_cm)\n",
    "print(classification_report(y_test,rf_pred))\n",
    "print('Accuracy Score: ',accuracy_score(y_test,rf_pred))\n",
    "print(\"======== KNN ========\")\n",
    "print(knn_cm)\n",
    "print(classification_report(y_test,knn_pred))\n",
    "print('Accuracy Score: ',accuracy_score(y_test,knn_pred))\n"
   ]
  },
  {
   "cell_type": "code",
   "execution_count": 26,
   "metadata": {},
   "outputs": [
    {
     "name": "stdout",
     "output_type": "stream",
     "text": [
      "======== XGBoost ========\n",
      "[[43817 16892]\n",
      " [ 4292  8117]]\n",
      "              precision    recall  f1-score   support\n",
      "\n",
      "           0       0.91      0.72      0.81     60709\n",
      "           1       0.32      0.65      0.43     12409\n",
      "\n",
      "    accuracy                           0.71     73118\n",
      "   macro avg       0.62      0.69      0.62     73118\n",
      "weighted avg       0.81      0.71      0.74     73118\n",
      "\n",
      "Accuracy Score:  0.7102765392926502\n"
     ]
    }
   ],
   "source": [
    "print(\"======== XGBoost ========\")\n",
    "print(xgb_cm)\n",
    "print(classification_report(y_test,xgb_pred))\n",
    "print('Accuracy Score: ',accuracy_score(y_test,xgb_pred))"
   ]
  },
  {
   "cell_type": "markdown",
   "metadata": {},
   "source": [
    "Percebemos que, por mais que o XGBoost tenha uma acurácia menor que os outros modelos, ele apresenta o maior recall para a classe 1 (abandono), que é uma métrica que iremos priorizar, pois queremos evitar falsos negativos."
   ]
  },
  {
   "cell_type": "markdown",
   "metadata": {},
   "source": [
    "## Ajuste de hiperparâmetros\n",
    "Vamos tentar melhorar os resultados desses três modelos fazendo o ajuste dos hiperparâmetros usando o `HalvingGridSearchCV`."
   ]
  },
  {
   "cell_type": "code",
   "execution_count": 12,
   "metadata": {},
   "outputs": [
    {
     "name": "stdout",
     "output_type": "stream",
     "text": [
      "Running HalvingGridSearchCV for RF...\n",
      "Best parameters for RF: {'classifier__max_depth': None, 'classifier__min_samples_leaf': 2, 'classifier__min_samples_split': 5, 'classifier__n_estimators': 200}\n",
      "Best score for RF: 0.8099117180084596\n",
      "Running HalvingGridSearchCV for KNN...\n",
      "Best parameters for KNN: {'classifier__metric': 'euclidean', 'classifier__n_neighbors': 9, 'classifier__weights': 'distance'}\n",
      "Best score for KNN: 0.8065716956835134\n",
      "Running HalvingGridSearchCV for XGB...\n",
      "Best parameters for XGB: {'classifier__learning_rate': 0.1, 'classifier__max_depth': 9, 'classifier__n_estimators': 50, 'classifier__subsample': 0.6}\n",
      "Best score for XGB: 0.7269746377734803\n",
      "Evaluating RF on test set...\n",
      "Test set accuracy for RF: 0.7654886621625318\n",
      "Evaluating KNN on test set...\n",
      "Test set accuracy for KNN: 0.7909817008123855\n",
      "Evaluating XGB on test set...\n",
      "Test set accuracy for XGB: 0.7120408107442764\n"
     ]
    }
   ],
   "source": [
    "pipelines = {\n",
    "    \"RF\": rf_pipeline,\n",
    "    \"KNN\": knn_pipeline,\n",
    "    \"XGB\": xgb_pipeline\n",
    "}\n",
    "\n",
    "# Parâmetros para cada pipeline\n",
    "params = {\n",
    "    \"RF\": {\n",
    "        'classifier__n_estimators': [50, 100, 200],\n",
    "        'classifier__max_depth': [None, 10, 20, 30],\n",
    "        'classifier__min_samples_split': [2, 5, 10],\n",
    "        'classifier__min_samples_leaf': [1, 2, 4]\n",
    "    },\n",
    "    \"KNN\": {\n",
    "        'classifier__n_neighbors': [3, 5, 7, 9],\n",
    "        'classifier__weights': ['uniform', 'distance'],\n",
    "        'classifier__metric': ['euclidean', 'manhattan']\n",
    "    },\n",
    "    \"XGB\": {\n",
    "        'classifier__n_estimators': [50, 100, 200],\n",
    "        'classifier__max_depth': [3, 6, 9],\n",
    "        'classifier__learning_rate': [0.01, 0.1, 0.2],\n",
    "        'classifier__subsample': [0.6, 0.8, 1.0]\n",
    "    }\n",
    "}\n",
    "\n",
    "# Realizar HalvingGridSearchCV para cada pipeline\n",
    "best_estimators = {}\n",
    "for model_name in pipelines:\n",
    "    print(f\"Running HalvingGridSearchCV for {model_name}...\")\n",
    "    grid_search = HalvingGridSearchCV(pipelines[model_name], params[model_name], factor=2, random_state=42)\n",
    "    grid_search.fit(X_train_resh, y_train_resh)\n",
    "    best_estimators[model_name] = grid_search.best_estimator_\n",
    "    print(f\"Best parameters for {model_name}: {grid_search.best_params_}\")\n",
    "    print(f\"Best score for {model_name}: {grid_search.best_score_}\")\n",
    "\n",
    "# Avaliar modelos com melhores parâmetros no conjunto de teste\n",
    "for model_name in best_estimators:\n",
    "    print(f\"Evaluating {model_name} on test set...\")\n",
    "    score = best_estimators[model_name].score(X_test, y_test)\n",
    "    print(f\"Test set accuracy for {model_name}: {score}\")"
   ]
  },
  {
   "cell_type": "markdown",
   "metadata": {},
   "source": [
    "Houve uma melhora significativa na acurácia do KNN na validação cruzada com dados de treino (aprox. 6%) e uma melhora de quase 1% da acurácia no conjunto teste. O Random Forest teve uma piora de 2% na acurácia da validação cruzada com dataset de treino e o XGB teve suas métricas praticamente inalteradas.  \n",
    "Vamos verificar o recall dos modelos no conjunto de teste utilizando os hiperparâmetros obtidos acima."
   ]
  },
  {
   "cell_type": "code",
   "execution_count": 31,
   "metadata": {},
   "outputs": [
    {
     "name": "stdout",
     "output_type": "stream",
     "text": [
      "RF mean : 0.468491367285577\n",
      "======== Random Forest ========\n",
      "[[48414 12295]\n",
      " [ 4852  7557]]\n",
      "              precision    recall  f1-score   support\n",
      "\n",
      "           0       0.91      0.80      0.85     60709\n",
      "           1       0.38      0.61      0.47     12409\n",
      "\n",
      "    accuracy                           0.77     73118\n",
      "   macro avg       0.64      0.70      0.66     73118\n",
      "weighted avg       0.82      0.77      0.78     73118\n",
      "\n",
      "Accuracy Score:  0.7654886621625318\n"
     ]
    }
   ],
   "source": [
    "rf_pipeline_tuned = Pipeline(steps = [('scale',StandardScaler()),('classifier',RandomForestClassifier(min_samples_leaf=2, min_samples_split=5, n_estimators=200, random_state=42))])\n",
    "rf_pipeline_tuned.fit(X_train_resh,y_train_resh)\n",
    "rf_tuned_pred = rf_pipeline_tuned.predict(X_test)\n",
    "rf_tuned_cm = confusion_matrix(y_test,rf_tuned_pred)\n",
    "rf_tuned_f1 = f1_score(y_test,rf_tuned_pred)\n",
    "print('RF mean :',rf_tuned_f1)\n",
    "print(\"======== Random Forest ========\")\n",
    "print(rf_tuned_cm)\n",
    "print(classification_report(y_test,rf_tuned_pred))\n",
    "print('Accuracy Score: ',accuracy_score(y_test,rf_tuned_pred))"
   ]
  },
  {
   "cell_type": "code",
   "execution_count": 28,
   "metadata": {},
   "outputs": [
    {
     "name": "stdout",
     "output_type": "stream",
     "text": [
      "KNN mean : 0.44631827330140883\n",
      "======== KNN ========\n",
      "[[51131  9578]\n",
      " [ 5705  6704]]\n",
      "              precision    recall  f1-score   support\n",
      "\n",
      "           0       0.90      0.84      0.87     60709\n",
      "           1       0.41      0.54      0.47     12409\n",
      "\n",
      "    accuracy                           0.79     73118\n",
      "   macro avg       0.66      0.69      0.67     73118\n",
      "weighted avg       0.82      0.79      0.80     73118\n",
      "\n",
      "Accuracy Score:  0.7909817008123855\n"
     ]
    }
   ],
   "source": [
    "knn_pipeline_tuned = Pipeline(steps = [('scale',StandardScaler()),('classifier',KNeighborsClassifier(n_neighbors=9, metric='euclidean', weights='distance', random_state=42))])\n",
    "knn_pipeline_tuned.fit(X_train_resh,y_train_resh)\n",
    "knn_tuned_pred = knn_pipeline_tuned.predict(X_test)\n",
    "knn_tuned_cm = confusion_matrix(y_test,knn_tuned_pred)\n",
    "knn_tuned_f1 = f1_score(y_test,knn_tuned_pred)\n",
    "print('KNN mean :',knn_tuned_f1)\n",
    "print(\"======== KNN ========\")\n",
    "print(knn_tuned_cm)\n",
    "print(classification_report(y_test,knn_tuned_pred))\n",
    "print('Accuracy Score: ',accuracy_score(y_test,knn_tuned_pred))\n"
   ]
  },
  {
   "cell_type": "code",
   "execution_count": 29,
   "metadata": {},
   "outputs": [
    {
     "name": "stdout",
     "output_type": "stream",
     "text": [
      "XGB mean : 0.4352654024622482\n",
      "======== XGB ========\n",
      "[[43949 16760]\n",
      " [ 4295  8114]]\n",
      "              precision    recall  f1-score   support\n",
      "\n",
      "           0       0.91      0.72      0.81     60709\n",
      "           1       0.33      0.65      0.44     12409\n",
      "\n",
      "    accuracy                           0.71     73118\n",
      "   macro avg       0.62      0.69      0.62     73118\n",
      "weighted avg       0.81      0.71      0.74     73118\n",
      "\n",
      "Accuracy Score:  0.7120408107442764\n"
     ]
    }
   ],
   "source": [
    "xgb_pipeline_tuned = Pipeline(steps = [('scale',StandardScaler()),('classifier',XGBClassifier(learning_rate=0.1, max_depth=9, n_estimators=50, subsample=0.6, random_state=42))])\n",
    "xgb_pipeline_tuned.fit(X_train_resh,y_train_resh)\n",
    "xgb_tuned_pred = xgb_pipeline_tuned.predict(X_test)\n",
    "xgb_tuned_cm = confusion_matrix(y_test,xgb_tuned_pred)\n",
    "xgb_tuned_f1 = f1_score(y_test,xgb_tuned_pred)\n",
    "print('XGB mean :',xgb_tuned_f1)\n",
    "print(\"======== XGBoost ========\")\n",
    "print(xgb_tuned_cm)\n",
    "print(classification_report(y_test,xgb_tuned_pred))\n",
    "print('Accuracy Score: ',accuracy_score(y_test,xgb_tuned_pred))"
   ]
  },
  {
   "cell_type": "markdown",
   "metadata": {},
   "source": [
    "Verifica-se uma melhora nas métricas de todos os modelos após o tuning, vamos compará-los:"
   ]
  },
  {
   "cell_type": "code",
   "execution_count": 65,
   "metadata": {},
   "outputs": [],
   "source": [
    "# Make dataframes to plot\n",
    "rf_df_tuned = pd.DataFrame(data=[f1_score(y_test,rf_tuned_pred),accuracy_score(y_test, rf_tuned_pred), recall_score(y_test, rf_tuned_pred),\n",
    "                   precision_score(y_test, rf_tuned_pred), roc_auc_score(y_test, rf_tuned_pred)], \n",
    "             columns=['Tuned Random Forest Score'],\n",
    "             index=[\"F1\",\"Accuracy\", \"Recall\", \"Precision\", \"ROC AUC Score\"])\n",
    "\n",
    "knn_df_tuned = pd.DataFrame(data=[f1_score(y_test,knn_tuned_pred),accuracy_score(y_test, knn_tuned_pred), recall_score(y_test, knn_tuned_pred),\n",
    "                   precision_score(y_test, knn_tuned_pred), roc_auc_score(y_test, knn_tuned_pred)], \n",
    "             columns=['Tuned KNN Score'],\n",
    "             index=[\"F1\",\"Accuracy\", \"Recall\", \"Precision\", \"ROC AUC Score\"])\n",
    "\n",
    "xgb_df_tuned = pd.DataFrame(data=[f1_score(y_test,xgb_tuned_pred),accuracy_score(y_test, xgb_tuned_pred), recall_score(y_test, xgb_tuned_pred),\n",
    "                   precision_score(y_test, xgb_tuned_pred), roc_auc_score(y_test, xgb_tuned_pred)], \n",
    "             columns=['Tuned XGBoost Score'],\n",
    "             index=[\"F1\",\"Accuracy\", \"Recall\", \"Precision\", \"ROC AUC Score\"])"
   ]
  },
  {
   "cell_type": "code",
   "execution_count": 66,
   "metadata": {},
   "outputs": [
    {
     "data": {
      "image/png": "[encoded data removed]",
      "text/plain": [
       "<Figure size 1000x800 with 1 Axes>"
      ]
     },
     "metadata": {},
     "output_type": "display_data"
    }
   ],
   "source": [
    "df_models = round(pd.concat([rf_df_tuned,knn_df_tuned,xgb_df_tuned], axis=1),6)\n",
    "colors = [\"lightgray\",\"lightgray\",\"#0f4c81\"]\n",
    "colormap = matplotlib.colors.LinearSegmentedColormap.from_list(\"\", colors)\n",
    "\n",
    "background_color = \"#fbfbfb\"\n",
    "\n",
    "fig = plt.figure(figsize=(10,8)) # create figure\n",
    "gs = fig.add_gridspec(4, 2)\n",
    "gs.update(wspace=0.1, hspace=0.5)\n",
    "ax0 = fig.add_subplot(gs[0, :])\n",
    "\n",
    "sns.heatmap(df_models.T, cmap=colormap,annot=True,fmt=\".1%\",vmin=0,vmax=0.95, linewidths=2.5,cbar=False,ax=ax0,annot_kws={\"fontsize\":12})\n",
    "fig.patch.set_facecolor(background_color) # figure background color\n",
    "ax0.set_facecolor(background_color) \n",
    "\n",
    "ax0.text(0,-0.5,'Comparação dos modelos',fontsize=18,fontweight='bold',fontfamily='serif')\n",
    "ax0.tick_params(axis=u'both', which=u'both',length=0)\n",
    "\n",
    "\n",
    "plt.show()"
   ]
  },
  {
   "cell_type": "markdown",
   "metadata": {},
   "source": [
    "## Escolha do melhor modelo"
   ]
  },
  {
   "cell_type": "markdown",
   "metadata": {},
   "source": [
    "Para escolher um modelo, precisamos julgar quais métricas são mais importantes no nosso caso.  \n",
    "Nós queremos prever as pessoas com tuberculose com maior chance de abandonar o tratamento para que medidas preventivas possam ser tomadas. Assim, devemos priorizar um maior Recall.  \n",
    "Ao analisar as métricas dos modelos no quadro acima, percebemos que o Tuned XGBoost apresenta o maior Recall e, por mais que possua menores valores de Acurácia, Precisão, F1 e ROC AUC comparado aos outros modelos, não é uma diferença comprometedora, assim, avaliamos que ele é o mais apropriado para o problema."
   ]
  },
  {
   "cell_type": "code",
   "execution_count": 92,
   "metadata": {},
   "outputs": [
    {
     "data": {
      "image/png": "[encoded data removed]",
      "text/plain": [
       "<Figure size 1000x800 with 2 Axes>"
      ]
     },
     "metadata": {},
     "output_type": "display_data"
    }
   ],
   "source": [
    "colors = [\"lightgray\",\"lightgray\",\"#0f4c81\"]\n",
    "colormap = matplotlib.colors.LinearSegmentedColormap.from_list(\"\", colors)\n",
    "\n",
    "background_color = \"#fbfbfb\"\n",
    "\n",
    "fig = plt.figure(figsize=(10,8)) # create figure\n",
    "gs = fig.add_gridspec(4, 2)\n",
    "gs.update(wspace=0.1, hspace=0.5)\n",
    "ax0 = fig.add_subplot(gs[0, :])\n",
    "ax1 = fig.add_subplot(gs[1, :])\n",
    "\n",
    "sns.heatmap(xgb_df_tuned.T, cmap=colormap,annot=True,fmt=\".1%\",vmin=0,vmax=0.95,yticklabels='', linewidths=2.5,cbar=False,ax=ax0,annot_kws={\"fontsize\":12})\n",
    "fig.patch.set_facecolor(background_color) # figure background color\n",
    "ax0.set_facecolor(background_color) \n",
    "ax1.set_facecolor(background_color) \n",
    "\n",
    "ax0.text(0,-0.2,'Tuned XGBoost - Visão Geral',fontsize=20,fontweight='bold',fontfamily='serif')\n",
    "ax0.tick_params(axis=u'both', which=u'both',length=0)\n",
    "\n",
    "\n",
    "\n",
    "# Overall\n",
    "\n",
    "sns.heatmap(xgb_tuned_cm, cmap=colormap,annot=True,fmt=\"d\", linewidths=5,cbar=False,ax=ax1,\n",
    "            yticklabels=['Não-Abandono Real','Abandono Real'],vmax=12000,vmin=0,xticklabels=['Não-Abandono Predito','Abandono Predito'],annot_kws={\"fontsize\":12})\n",
    "ax0.tick_params(axis=u'both', which=u'both',length=0)\n",
    "ax1.tick_params(axis=u'both', which=u'both',length=0)\n",
    "plt.show()"
   ]
  }
 ],
 "metadata": {
  "kernelspec": {
   "display_name": "gatti",
   "language": "python",
   "name": "python3"
  },
  "language_info": {
   "codemirror_mode": {
    "name": "ipython",
    "version": 3
   },
   "file_extension": ".py",
   "mimetype": "text/x-python",
   "name": "python",
   "nbconvert_exporter": "python",
   "pygments_lexer": "ipython3",
   "version": "3.12.3"
  }
 },
 "nbformat": 4,
 "nbformat_minor": 2
}
