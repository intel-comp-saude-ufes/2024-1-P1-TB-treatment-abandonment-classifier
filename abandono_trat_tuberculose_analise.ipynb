{
 "cells": [
  {
   "cell_type": "markdown",
   "id": "d5a8c034",
   "metadata": {},
   "source": [
    "# Tuberculosis Treatment Abandonment Classifier\n",
    "O dataset utilizado nesse projeto contém casos de tuberculose pulmonar reportados ao Sistema de Informação de Agravos de Notificação (SINAN) entre 2015 e 2022. Dessa forma, faremos uma análise dos dados para tentar entender certos padrões e quais fatores estão mais associados ao caso da não-finalização do tratamento da tuberculose, ou seja, do abandono do tratamento. Após a analise, treinaremos um modelo classificador."
   ]
  },
  {
   "cell_type": "code",
   "execution_count": 1,
   "id": "f523b404-10fa-4abd-bf6f-c7aeea8bf2fb",
   "metadata": {},
   "outputs": [],
   "source": [
    "import numpy as np\n",
    "import pandas as pd\n",
    "import matplotlib.pyplot as plt\n",
    "import seaborn as sns\n",
    "from sklearn.experimental import enable_iterative_imputer\n",
    "from sklearn.impute import IterativeImputer\n",
    "from sklearn.tree import DecisionTreeClassifier\n",
    "import plotly.express as px"
   ]
  },
  {
   "cell_type": "markdown",
   "id": "ae75df4c-04a9-4245-9f55-1376c070a902",
   "metadata": {},
   "source": [
    "## Carregando o dataset"
   ]
  },
  {
   "cell_type": "code",
   "execution_count": 2,
   "id": "cd68b233-8852-4915-bb7d-8164dffea496",
   "metadata": {},
   "outputs": [
    {
     "name": "stderr",
     "output_type": "stream",
     "text": [
      "/tmp/ipykernel_32693/2336186354.py:1: DtypeWarning: Columns (22,24,29,30,32,49,54,60,76,93) have mixed types. Specify dtype option on import or set low_memory=False.\n",
      "  df = pd.read_csv('casos_tuberculose_2015-2022.csv')\n",
      "/tmp/ipykernel_32693/2336186354.py:5: FutureWarning: Downcasting behavior in `replace` is deprecated and will be removed in a future version. To retain the old behavior, explicitly call `result.infer_objects(copy=False)`. To opt-in to the future behavior, set `pd.set_option('future.no_silent_downcasting', True)`\n",
      "  df['reg_not'] = df['reg_not'].replace({'North': 0, 'NorthEast': 1, 'South': 2, 'SouthEast': 3, 'Central-west': 4})\n"
     ]
    },
    {
     "data": {
      "text/html": [
       "<div>\n",
       "<style scoped>\n",
       "    .dataframe tbody tr th:only-of-type {\n",
       "        vertical-align: middle;\n",
       "    }\n",
       "\n",
       "    .dataframe tbody tr th {\n",
       "        vertical-align: top;\n",
       "    }\n",
       "\n",
       "    .dataframe thead th {\n",
       "        text-align: right;\n",
       "    }\n",
       "</style>\n",
       "<table border=\"1\" class=\"dataframe\">\n",
       "  <thead>\n",
       "    <tr style=\"text-align: right;\">\n",
       "      <th></th>\n",
       "      <th>reg_not</th>\n",
       "      <th>cs_sexo</th>\n",
       "      <th>cs_raca</th>\n",
       "      <th>cs_escol_n</th>\n",
       "      <th>tratamento</th>\n",
       "      <th>raiox_tora</th>\n",
       "      <th>agravaids</th>\n",
       "      <th>agravalcoo</th>\n",
       "      <th>agravdiabe</th>\n",
       "      <th>agravdoenc</th>\n",
       "      <th>hiv</th>\n",
       "      <th>tratsup_at</th>\n",
       "      <th>benef_gov</th>\n",
       "      <th>agravdroga</th>\n",
       "      <th>agravtabac</th>\n",
       "      <th>idade</th>\n",
       "      <th>abandono</th>\n",
       "    </tr>\n",
       "  </thead>\n",
       "  <tbody>\n",
       "    <tr>\n",
       "      <th>0</th>\n",
       "      <td>4.0</td>\n",
       "      <td>1.0</td>\n",
       "      <td>1.0</td>\n",
       "      <td>1.0</td>\n",
       "      <td>1.0</td>\n",
       "      <td>0.0</td>\n",
       "      <td>0.0</td>\n",
       "      <td>1.0</td>\n",
       "      <td>0.0</td>\n",
       "      <td>0.0</td>\n",
       "      <td>0.0</td>\n",
       "      <td>1.0</td>\n",
       "      <td>NaN</td>\n",
       "      <td>0.0</td>\n",
       "      <td>1.0</td>\n",
       "      <td>60.0</td>\n",
       "      <td>0</td>\n",
       "    </tr>\n",
       "    <tr>\n",
       "      <th>1</th>\n",
       "      <td>1.0</td>\n",
       "      <td>1.0</td>\n",
       "      <td>1.0</td>\n",
       "      <td>0.0</td>\n",
       "      <td>1.0</td>\n",
       "      <td>1.0</td>\n",
       "      <td>NaN</td>\n",
       "      <td>1.0</td>\n",
       "      <td>NaN</td>\n",
       "      <td>NaN</td>\n",
       "      <td>2.0</td>\n",
       "      <td>0.0</td>\n",
       "      <td>0.0</td>\n",
       "      <td>NaN</td>\n",
       "      <td>NaN</td>\n",
       "      <td>37.0</td>\n",
       "      <td>1</td>\n",
       "    </tr>\n",
       "    <tr>\n",
       "      <th>2</th>\n",
       "      <td>2.0</td>\n",
       "      <td>1.0</td>\n",
       "      <td>1.0</td>\n",
       "      <td>0.0</td>\n",
       "      <td>1.0</td>\n",
       "      <td>2.0</td>\n",
       "      <td>NaN</td>\n",
       "      <td>NaN</td>\n",
       "      <td>NaN</td>\n",
       "      <td>NaN</td>\n",
       "      <td>2.0</td>\n",
       "      <td>0.0</td>\n",
       "      <td>0.0</td>\n",
       "      <td>1.0</td>\n",
       "      <td>NaN</td>\n",
       "      <td>22.0</td>\n",
       "      <td>1</td>\n",
       "    </tr>\n",
       "    <tr>\n",
       "      <th>3</th>\n",
       "      <td>2.0</td>\n",
       "      <td>1.0</td>\n",
       "      <td>1.0</td>\n",
       "      <td>1.0</td>\n",
       "      <td>1.0</td>\n",
       "      <td>1.0</td>\n",
       "      <td>0.0</td>\n",
       "      <td>1.0</td>\n",
       "      <td>0.0</td>\n",
       "      <td>0.0</td>\n",
       "      <td>0.0</td>\n",
       "      <td>NaN</td>\n",
       "      <td>0.0</td>\n",
       "      <td>1.0</td>\n",
       "      <td>1.0</td>\n",
       "      <td>37.0</td>\n",
       "      <td>0</td>\n",
       "    </tr>\n",
       "    <tr>\n",
       "      <th>4</th>\n",
       "      <td>3.0</td>\n",
       "      <td>1.0</td>\n",
       "      <td>1.0</td>\n",
       "      <td>1.0</td>\n",
       "      <td>0.0</td>\n",
       "      <td>1.0</td>\n",
       "      <td>NaN</td>\n",
       "      <td>1.0</td>\n",
       "      <td>NaN</td>\n",
       "      <td>NaN</td>\n",
       "      <td>0.0</td>\n",
       "      <td>1.0</td>\n",
       "      <td>1.0</td>\n",
       "      <td>1.0</td>\n",
       "      <td>1.0</td>\n",
       "      <td>22.0</td>\n",
       "      <td>1</td>\n",
       "    </tr>\n",
       "  </tbody>\n",
       "</table>\n",
       "</div>"
      ],
      "text/plain": [
       "   reg_not  cs_sexo  cs_raca  cs_escol_n  tratamento  raiox_tora  agravaids  \\\n",
       "0      4.0      1.0      1.0         1.0         1.0         0.0        0.0   \n",
       "1      1.0      1.0      1.0         0.0         1.0         1.0        NaN   \n",
       "2      2.0      1.0      1.0         0.0         1.0         2.0        NaN   \n",
       "3      2.0      1.0      1.0         1.0         1.0         1.0        0.0   \n",
       "4      3.0      1.0      1.0         1.0         0.0         1.0        NaN   \n",
       "\n",
       "   agravalcoo  agravdiabe  agravdoenc  hiv  tratsup_at  benef_gov  agravdroga  \\\n",
       "0         1.0         0.0         0.0  0.0         1.0        NaN         0.0   \n",
       "1         1.0         NaN         NaN  2.0         0.0        0.0         NaN   \n",
       "2         NaN         NaN         NaN  2.0         0.0        0.0         1.0   \n",
       "3         1.0         0.0         0.0  0.0         NaN        0.0         1.0   \n",
       "4         1.0         NaN         NaN  0.0         1.0        1.0         1.0   \n",
       "\n",
       "   agravtabac  idade  abandono  \n",
       "0         1.0   60.0         0  \n",
       "1         NaN   37.0         1  \n",
       "2         NaN   22.0         1  \n",
       "3         1.0   37.0         0  \n",
       "4         1.0   22.0         1  "
      ]
     },
     "execution_count": 2,
     "metadata": {},
     "output_type": "execute_result"
    }
   ],
   "source": [
    "# df = pd.read_csv('casos_tuberculose_2015-2022.csv')\n",
    "# df = df.drop(['tp_not','id_agravo','dt_notific','nu_ano','id_municip','id_regiona','dt_diag','ano_nasc','nu_idade_n','sg_uf','id_mn_resi','id_rg_resi','id_pais','nduplic_n','in_vincula','dt_digita','dt_transus','dt_transdm','dt_transsm','dt_transrm','dt_transrs','dt_transse','cs_flxret','flxrecebi','migrado_w','id_ocupa_n','institucio','teste_tube','extrapu1_n','extrapu2_n','extrapul_o','agravoutra','agravoutde','bacilosc_e','bacilos_e2','bacilosc_o','cultura_ou','histopatol','dt_inic_tr','rifampicin','isoniazida','etambutol','estreptomi','pirazinami','etionamida','outras','outras_des','nu_contato','doenca_tra','sg_uf_at','id_munic_a','dt_noti_at','sg_uf_2','id_munic_2','bacilosc_1','bacilosc_2','bacilosc_3','bacilosc_4','bacilosc_5','bacilosc_6','dt_mudanca','nu_comu_ex','situa_9_m','situa_12_m','dt_encerra','tpuninot','test_molec','test_sensi','ant_retro','bac_apos_6','transf','uf_transf','mun_transf','time_in_SINAN','cultura_es','trat_super','cs_gestant','situa_ence','pop_liber','pop_rua','pop_saude','pop_imig','forma'], axis=1)\n",
    "\n",
    "# df.rename(columns={'sg_uf_not': 'reg_not'}, inplace=True)\n",
    "# df['reg_not'] = df['reg_not'].replace({'North': 0, 'NorthEast': 1, 'South': 2, 'SouthEast': 3, 'Central-west': 4})\n",
    "# df['raiox_tora'] = df['raiox_tora'].replace({np.NaN:2}) # Valores nulos considerados como raio-x não realizado\n",
    "# df['agravaids'] = df['agravaids'].replace({2:0, 3:np.NaN, 9:np.NaN})\n",
    "# df['hiv'] = df['hiv'].replace({np.NaN:2}) # Valores nulos considerados como teste HIV não realizado\n",
    "# df.rename(columns={'outcome': 'abandono'}, inplace=True)\n",
    "# df.head()"
   ]
  },
  {
   "cell_type": "markdown",
   "id": "cc0ccc44-874f-4062-b8d2-9fd8e562e57f",
   "metadata": {},
   "source": [
    "### Lidando com dados faltantes"
   ]
  },
  {
   "cell_type": "code",
   "execution_count": 3,
   "id": "92cf6960-d3ad-429c-9bb6-69a0811ddcdf",
   "metadata": {},
   "outputs": [
    {
     "data": {
      "image/png": "[encoded data removed]",
      "text/plain": [
       "<Figure size 640x480 with 2 Axes>"
      ]
     },
     "metadata": {},
     "output_type": "display_data"
    }
   ],
   "source": [
    "# plt.title('Dados faltantes',fontweight='bold')\n",
    "# ax = sns.heatmap(df.isna().sum().to_frame(),annot=True,fmt='d',cmap='vlag')\n",
    "# ax.set_xlabel('Quantidade faltante')\n",
    "# plt.show()"
   ]
  },
  {
   "cell_type": "markdown",
   "id": "11b9afad-3840-4ac9-ac38-4495b04c04cb",
   "metadata": {},
   "source": [
    "Nossa base de dados possui uma grande quantidade de dados faltantes, portanto vamos utilizar o método da imputação iterativa com um classificador de árvore de decisão para preencher os dados, sabendo que os dados nulos são todos categóricos."
   ]
  },
  {
   "cell_type": "code",
   "execution_count": null,
   "id": "2727ff02-73e8-4a64-a492-80acea402228",
   "metadata": {},
   "outputs": [],
   "source": [
    "# Imputador iterativo com um classificador de árvore de decisão\n",
    "# iterative_imputer = IterativeImputer(estimator=DecisionTreeClassifier(), random_state=42)\n",
    "# df_imputed = pd.DataFrame(iterative_imputer.fit_transform(df), columns=df.columns)"
   ]
  },
  {
   "cell_type": "markdown",
   "id": "a8868089",
   "metadata": {},
   "source": [
    "Vamos salvar o dataframe imputado para não precisar rodar o imputador novamente. Usaremos ele para analisar os dados e para treinar o modelo."
   ]
  },
  {
   "cell_type": "code",
   "execution_count": null,
   "id": "35139262",
   "metadata": {},
   "outputs": [],
   "source": [
    "# df_imputed.to_csv(\"data/tuberculose_imputed.csv\", index=False)"
   ]
  },
  {
   "cell_type": "code",
   "execution_count": 4,
   "id": "f49507f7-8376-459d-b35b-99e04aba660b",
   "metadata": {},
   "outputs": [
    {
     "name": "stdout",
     "output_type": "stream",
     "text": [
      "<class 'pandas.core.frame.DataFrame'>\n",
      "RangeIndex: 243726 entries, 0 to 243725\n",
      "Data columns (total 17 columns):\n",
      " #   Column      Non-Null Count   Dtype\n",
      "---  ------      --------------   -----\n",
      " 0   reg_not     243726 non-null  int8 \n",
      " 1   cs_sexo     243726 non-null  int8 \n",
      " 2   cs_raca     243726 non-null  int8 \n",
      " 3   cs_escol_n  243726 non-null  int8 \n",
      " 4   tratamento  243726 non-null  int8 \n",
      " 5   raiox_tora  243726 non-null  int8 \n",
      " 6   agravaids   243726 non-null  int8 \n",
      " 7   agravalcoo  243726 non-null  int8 \n",
      " 8   agravdiabe  243726 non-null  int8 \n",
      " 9   agravdoenc  243726 non-null  int8 \n",
      " 10  hiv         243726 non-null  int8 \n",
      " 11  tratsup_at  243726 non-null  int8 \n",
      " 12  benef_gov   243726 non-null  int8 \n",
      " 13  agravdroga  243726 non-null  int8 \n",
      " 14  agravtabac  243726 non-null  int8 \n",
      " 15  idade       243726 non-null  int8 \n",
      " 16  abandono    243726 non-null  int8 \n",
      "dtypes: int8(17)\n",
      "memory usage: 4.0 MB\n"
     ]
    }
   ],
   "source": [
    "df = pd.read_csv('data/tuberculose_imputed.csv')\n",
    "# Otimização de memória\n",
    "for column in df.columns:\n",
    "    df[column] = df[column].astype(np.int8)\n",
    "df.info()"
   ]
  },
  {
   "cell_type": "markdown",
   "id": "890facde-7941-43f1-94a7-9c27e93dab14",
   "metadata": {},
   "source": [
    "## Exploração dos dados"
   ]
  },
  {
   "cell_type": "markdown",
   "id": "bc0d3b43",
   "metadata": {},
   "source": [
    "Inicialmente, vamos analisar a proporção de casos de abandono e não-abandono do dataset."
   ]
  },
  {
   "cell_type": "code",
   "execution_count": 8,
   "id": "0359633c",
   "metadata": {},
   "outputs": [
    {
     "data": {
      "image/png": "[encoded data removed]",
      "text/plain": [
       "<Figure size 400x400 with 1 Axes>"
      ]
     },
     "metadata": {},
     "output_type": "display_data"
    }
   ],
   "source": [
    "counts = df['abandono'].value_counts()\n",
    "\n",
    "# Plotar o gráfico de pizza\n",
    "plt.figure(figsize=(4, 4))\n",
    "plt.pie(counts, labels=['0', '1'], autopct='%1.1f%%', startangle=90, colors=['lightcoral', 'lightblue'])\n",
    "plt.title('Abandono', fontweight='bold')\n",
    "plt.show()"
   ]
  },
  {
   "cell_type": "markdown",
   "id": "a4b7e5ef",
   "metadata": {},
   "source": [
    "Percebemos que o dataset é muito desbalanceado, sendo 17% dos casos com desfecho de abandono. Geralmente, modelos de Machine Learning não desempenham bem em casos assim, portanto trataremos disso quando formos treinar os modelos. "
   ]
  },
  {
   "cell_type": "markdown",
   "id": "e5cd2b58",
   "metadata": {},
   "source": [
    "### Análise bivariada"
   ]
  },
  {
   "cell_type": "markdown",
   "id": "32ccabf3",
   "metadata": {},
   "source": [
    "Vamos analisar a relação do abandono com cada variável."
   ]
  },
  {
   "cell_type": "markdown",
   "id": "bb0a24f3",
   "metadata": {},
   "source": [
    "- #### Idade & Abandono"
   ]
  },
  {
   "cell_type": "code",
   "execution_count": 6,
   "id": "f8efbde2",
   "metadata": {},
   "outputs": [
    {
     "data": {
      "image/png": "[encoded data removed]",
      "text/plain": [
       "<Figure size 1500x1500 with 1 Axes>"
      ]
     },
     "metadata": {},
     "output_type": "display_data"
    }
   ],
   "source": [
    "conts = ['idade']\n",
    "background_color = \"#fafafa\"\n",
    "\n",
    "fig = plt.figure(figsize=(10, 10), dpi=150,facecolor=background_color)\n",
    "gs = fig.add_gridspec(4, 3)\n",
    "gs.update(wspace=0.1, hspace=0.4)\n",
    "\n",
    "\n",
    "plot = 0\n",
    "locals()[\"ax\"+str(plot)] = fig.add_subplot(gs[0, 0])\n",
    "locals()[\"ax\"+str(plot)].set_facecolor(background_color)\n",
    "locals()[\"ax\"+str(plot)].tick_params(axis='y', left=False)\n",
    "locals()[\"ax\"+str(plot)].get_yaxis().set_visible(False)\n",
    "for s in [\"top\",\"right\",\"left\"]:\n",
    "    locals()[\"ax\"+str(plot)].spines[s].set_visible(False)\n",
    "\n",
    "a = df[df['abandono'] == 1]\n",
    "na = df[df['abandono'] == 0]\n",
    "\n",
    "sns.kdeplot(a['idade'], ax=locals()[\"ax\"+str(plot)], color='#0f4c81', fill=True, linewidth=1.5, ec='black',alpha=0.9, zorder=3, legend=False)\n",
    "sns.kdeplot(na['idade'],ax=locals()[\"ax\"+str(plot)], color='#9bb7d4', fill=True, linewidth=1.5, ec='black',alpha=0.9, zorder=3, legend=False)\n",
    "locals()[\"ax\"+str(plot)].grid(which='major', axis='x', zorder=0, color='gray', linestyle=':', dashes=(1,5))\n",
    "plt.legend(['Abandono', 'Não abandono'], loc='upper right', fontsize=8)\n",
    "\n",
    "plt.show()"
   ]
  },
  {
   "cell_type": "markdown",
   "id": "cc0ccd99",
   "metadata": {},
   "source": [
    "Comparando a idade dos grupos de pessoas que abandonaram o tratamento com as que não abandonaram, percecbe-se uma tendência maior das pessoas do primeiro grupo a serem mais jovens."
   ]
  },
  {
   "cell_type": "markdown",
   "id": "2c4bde1f",
   "metadata": {},
   "source": [
    "- #### Sexo & Abandono"
   ]
  },
  {
   "cell_type": "code",
   "execution_count": null,
   "id": "a4c09d9a",
   "metadata": {},
   "outputs": [],
   "source": [
    "fig = px.histogram(df, x=\"cs_sexo\", color=\"abandono\",width=400, height=400)\n",
    "\n",
    "tickvals = [0, 1]\n",
    "ticktext = [\"Feminino\", \"Masculino\"]\n",
    "fig.update_xaxes(tickvals=tickvals, ticktext=ticktext)\n",
    "\n",
    "fig.show()"
   ]
  },
  {
   "cell_type": "markdown",
   "id": "d540d7af-c2ce-4aad-a121-39bd709f538b",
   "metadata": {},
   "source": [
    "Nota-se que quase o dobro dos casos de tuberculose ocorre em homens e, percentualmente, há uma chance menor de abandono por mulheres.  \n",
    "13% dos pacientes do sexo feminino abandonaram o tratamento, enquanto 19% do sexo masculino abandonaram. "
   ]
  },
  {
   "cell_type": "markdown",
   "id": "5e11c8ca",
   "metadata": {},
   "source": [
    "- #### Região de notificação & Abandono"
   ]
  },
  {
   "cell_type": "code",
   "execution_count": null,
   "id": "99f8c03b",
   "metadata": {},
   "outputs": [],
   "source": [
    "fig = px.histogram(df, x=\"reg_not\", color=\"abandono\",width=400, height=400)\n",
    "# Definir os valores e os rótulos desejados\n",
    "tickvals = [0, 1, 2, 3, 4]\n",
    "ticktext = [\"Norte\", \"Nordeste\", \"Sul\", \"Sudeste\", \"Centro-Oeste\"]\n",
    "\n",
    "# Atualiza os eixos x\n",
    "fig.update_xaxes(tickvals=tickvals, ticktext=ticktext)\n",
    "fig.show()"
   ]
  },
  {
   "cell_type": "markdown",
   "id": "f4f0051f",
   "metadata": {},
   "source": [
    "Na região Norte, 17% dos casos notificados resultaram em abandono;\n",
    "No Nordeste, também 17%;\n",
    "No Sul, 19%;\n",
    "No Sudeste, 16%;\n",
    "No Centro-Oeste, 19%.  \n",
    "Conclui-se que não há grande diferença na proporção de abandono entre as diferentes regiões.\n"
   ]
  },
  {
   "cell_type": "markdown",
   "id": "170a7aa9",
   "metadata": {},
   "source": [
    "- #### Raça & Abandono"
   ]
  },
  {
   "cell_type": "code",
   "execution_count": null,
   "id": "90c8013d",
   "metadata": {},
   "outputs": [],
   "source": [
    "fig = px.histogram(df, x=\"cs_raca\", color=\"abandono\",width=400, height=400)\n",
    "\n",
    "tickvals = [0, 1]\n",
    "ticktext = [\"Branco\", \"Preto, Pardo, Amarelo, Indígena\"]\n",
    "\n",
    "fig.update_xaxes(tickvals=tickvals, ticktext=ticktext)\n",
    "fig.show()"
   ]
  },
  {
   "cell_type": "markdown",
   "id": "3f047e13",
   "metadata": {},
   "source": [
    "13% das pessoas brancas com tuberculose abandonaram. Das pessoas de raça preta, parda, amarela ou indígena, 18,6% abandonaram. "
   ]
  },
  {
   "cell_type": "markdown",
   "id": "388b7b88",
   "metadata": {},
   "source": [
    "- #### Nível de escolaridade & Abandono"
   ]
  },
  {
   "cell_type": "code",
   "execution_count": null,
   "id": "ebeb3099",
   "metadata": {},
   "outputs": [],
   "source": [
    "fig = px.histogram(df, x=\"cs_escol_n\", color=\"abandono\",width=400, height=400)\n",
    "\n",
    "tickvals = [0, 1, 2, 3]\n",
    "ticktext = [\"5- anos\", \"5-8 anos\", \"9-11 anos\", \"12+ anos\"]\n",
    "\n",
    "fig.update_xaxes(tickvals=tickvals, ticktext=ticktext)\n",
    "fig.show()"
   ]
  },
  {
   "cell_type": "markdown",
   "id": "1d9e1f8d",
   "metadata": {},
   "source": [
    "Das pessoas com menos de 5 anos de escolaridade, 16,4% abandonaram o tratamento;  \n",
    "Com 5 a 8 anos de escolaridade, 21,7%;  \n",
    "Com 9 a 11 anos, 14,9%;  \n",
    "Com mais de 12 anos, 7,8%;  \n",
    "Percebe-se uma discrepância considerável da proporção de abandono entre as categorias. "
   ]
  },
  {
   "cell_type": "markdown",
   "id": "4b8cf111",
   "metadata": {},
   "source": [
    "- #### Tipo de entrada do paciente na unidade de saúde & Abandono"
   ]
  },
  {
   "cell_type": "code",
   "execution_count": null,
   "id": "138684ef",
   "metadata": {},
   "outputs": [],
   "source": [
    "fig = px.histogram(df, x=\"tratamento\", color=\"abandono\",width=400, height=400)\n",
    "\n",
    "tickvals = [0, 1]\n",
    "ticktext = [\"Caso novo\", \"Retratamento\"]\n",
    "\n",
    "fig.update_xaxes(tickvals=tickvals, ticktext=ticktext)\n",
    "fig.show()"
   ]
  },
  {
   "cell_type": "markdown",
   "id": "7a729050",
   "metadata": {},
   "source": [
    "Dentre os casos de pessoas sendo tratadas pela 1ª vez, 13,4% resultaram em abandono. Já dentre as pessoas em retratamento (podendo ser recidiva após cura ou reingresso após abandono), 38% abandonaram.  \n",
    "Para essa variável em específico nota-se uma grande diferença entre os dois possíveis casos."
   ]
  },
  {
   "cell_type": "markdown",
   "id": "8af60667",
   "metadata": {},
   "source": [
    "- #### Resultado da radiografia do tórax & Abandono"
   ]
  },
  {
   "cell_type": "code",
   "execution_count": null,
   "id": "56ad6117",
   "metadata": {},
   "outputs": [],
   "source": [
    "fig = px.histogram(df, x=\"raiox_tora\", color=\"abandono\",width=400, height=400)\n",
    "\n",
    "tickvals = [0, 1, 2]\n",
    "ticktext = [\"Normal\", \"Suspeito\", \"Não realizado\"]\n",
    "\n",
    "fig.update_xaxes(tickvals=tickvals, ticktext=ticktext)\n",
    "fig.show()"
   ]
  },
  {
   "cell_type": "markdown",
   "id": "0a11ad50",
   "metadata": {},
   "source": [
    "Dos pacientes com resultado normal da radiografia do tórax, 13,2% abandonaram;  \n",
    "Com resultado suspeito (77,3% dos casos), 16% abandonaram;\n",
    "Dos que não realizaram, 21% abandonaram.\n",
    "Observa-se uma tendência maior de abandono em caso de não-realização do raio-x."
   ]
  },
  {
   "cell_type": "markdown",
   "id": "0aedcab4",
   "metadata": {},
   "source": [
    "- #### Agravo da AIDS associado à tuberculose & Abandono"
   ]
  },
  {
   "cell_type": "code",
   "execution_count": null,
   "id": "10451b21",
   "metadata": {},
   "outputs": [],
   "source": [
    "fig = px.histogram(df, x=\"agravaids\", color=\"abandono\",width=400, height=400)\n",
    "\n",
    "tickvals = [0, 1]\n",
    "ticktext = [\"Não\", \"Sim\"]\n",
    "\n",
    "fig.update_xaxes(tickvals=tickvals, ticktext=ticktext)\n",
    "fig.show()"
   ]
  },
  {
   "cell_type": "markdown",
   "id": "c67f29a6",
   "metadata": {},
   "source": [
    "Nos casos em que não houve agravo da AIDS associado à tuberculose por ocasião da notificação, 15,9% abandonaram, enquanto 31,7% abandonaram no caso de haver agravo, ou seja, praticamente o dobro."
   ]
  },
  {
   "cell_type": "markdown",
   "id": "6477b8ac",
   "metadata": {},
   "source": [
    "- #### Agravo do Alcoolismo associado à tuberculose & Abandono\n"
   ]
  },
  {
   "cell_type": "code",
   "execution_count": null,
   "id": "4c5954ce",
   "metadata": {},
   "outputs": [],
   "source": [
    "fig = px.histogram(df, x=\"agravalcoo\", color=\"abandono\",width=400, height=400)\n",
    "\n",
    "tickvals = [0, 1]\n",
    "ticktext = [\"Não\", \"Sim\"]\n",
    "\n",
    "fig.update_xaxes(tickvals=tickvals, ticktext=ticktext)\n",
    "fig.show()"
   ]
  },
  {
   "cell_type": "markdown",
   "id": "f23e4c9b",
   "metadata": {},
   "source": [
    "Nos casos em que não houve agravo do alcoolismo associado à tuberculose por ocasião da notificação, 14,6% abandonaram, enquanto 27% abandonaram no caso de haver agravo, ou seja, também é quase o dobro."
   ]
  },
  {
   "cell_type": "markdown",
   "id": "157a8630",
   "metadata": {},
   "source": [
    "- #### Agravo da Diabetes associado à tuberculose & Abandono\n"
   ]
  },
  {
   "cell_type": "code",
   "execution_count": null,
   "id": "4fb894f6",
   "metadata": {},
   "outputs": [],
   "source": [
    "fig = px.histogram(df, x=\"agravdiabe\", color=\"abandono\",width=400, height=400)\n",
    "\n",
    "tickvals = [0, 1]\n",
    "ticktext = [\"Não\", \"Sim\"]\n",
    "\n",
    "fig.update_xaxes(tickvals=tickvals, ticktext=ticktext)\n",
    "fig.show()"
   ]
  },
  {
   "cell_type": "markdown",
   "id": "9a052d32",
   "metadata": {},
   "source": [
    "Nos casos em que não houve agravo da diabetes associado à tuberculose por ocasião da notificação, 17,8% abandonaram, enquanto 9,8% abandonaram no caso de haver agravo. Nesse caso, ao contrário dos dois últimos analisados, o agravo da diabetes resulta em uma chance quase 2x menor de abandono do tratamento da tuberculose. "
   ]
  },
  {
   "cell_type": "markdown",
   "id": "6dd4c1ea",
   "metadata": {},
   "source": [
    "- #### Agravo de Doenças Mentais associado à tuberculose & Abandono\n"
   ]
  },
  {
   "cell_type": "code",
   "execution_count": null,
   "id": "ecdbab40",
   "metadata": {},
   "outputs": [],
   "source": [
    "fig = px.histogram(df, x=\"agravdoenc\", color=\"abandono\",width=400, height=400)\n",
    "\n",
    "tickvals = [0, 1]\n",
    "ticktext = [\"Não\", \"Sim\"]\n",
    "\n",
    "fig.update_xaxes(tickvals=tickvals, ticktext=ticktext)\n",
    "fig.show()"
   ]
  },
  {
   "cell_type": "markdown",
   "id": "b2281388",
   "metadata": {},
   "source": [
    "Nos casos em que não houve agravo de doenças mentais associado à tuberculose por ocasião da notificação, 16,9% abandonaram, enquanto 19,6% abandonaram no caso de haver agravo. Nesse caso não há uma diferença notável."
   ]
  },
  {
   "cell_type": "markdown",
   "id": "e2261104",
   "metadata": {},
   "source": [
    "- #### Agravo do Uso de drogas ilícitas associado à tuberculose & Abandono"
   ]
  },
  {
   "cell_type": "code",
   "execution_count": null,
   "id": "8d615874",
   "metadata": {},
   "outputs": [],
   "source": [
    "fig = px.histogram(df, x=\"agravdroga\", color=\"abandono\",width=400, height=400)\n",
    "\n",
    "tickvals = [0, 1]\n",
    "ticktext = [\"Não\", \"Sim\"]\n",
    "\n",
    "fig.update_xaxes(tickvals=tickvals, ticktext=ticktext)\n",
    "fig.show()"
   ]
  },
  {
   "cell_type": "markdown",
   "id": "9e31325d",
   "metadata": {},
   "source": [
    "Nos casos em que não houve agravo do uso de drogas ilícitas associado à tuberculose por ocasião da notificação, 13,6% abandonaram, enquanto 39,2% abandonaram no caso de haver agravo, ou seja, praticamente o triplo, sendo essa uma diferença bastante relevante."
   ]
  },
  {
   "cell_type": "markdown",
   "id": "d37f7d47",
   "metadata": {},
   "source": [
    "- #### Agravo do Tabagismo associado à tuberculose & Abandono"
   ]
  },
  {
   "cell_type": "code",
   "execution_count": null,
   "id": "93316eb7",
   "metadata": {},
   "outputs": [],
   "source": [
    "fig = px.histogram(df, x=\"agravtabac\", color=\"abandono\",width=400, height=400)\n",
    "\n",
    "tickvals = [0, 1]\n",
    "ticktext = [\"Não\", \"Sim\"]\n",
    "\n",
    "fig.update_xaxes(tickvals=tickvals, ticktext=ticktext)\n",
    "fig.show()"
   ]
  },
  {
   "cell_type": "markdown",
   "id": "5ea66377",
   "metadata": {},
   "source": [
    "Nos casos em que não houve agravo do tabagismo associado à tuberculose por ocasião da notificação, 14,3% abandonaram, enquanto 24,9% abandonaram no caso de haver agravo, ou seja, uma chance de 1,75x maior."
   ]
  },
  {
   "cell_type": "markdown",
   "id": "b40b1b7a",
   "metadata": {},
   "source": [
    "- #### HIV & Abandono"
   ]
  },
  {
   "cell_type": "code",
   "execution_count": null,
   "id": "05df583a",
   "metadata": {},
   "outputs": [],
   "source": [
    "fig = px.histogram(df, x=\"hiv\", color=\"abandono\",width=400, height=400)\n",
    "\n",
    "tickvals = [0, 1, 2]\n",
    "ticktext = [\"Negativo\", \"Positivo\", \"Não realizado\"]\n",
    "\n",
    "fig.update_xaxes(tickvals=tickvals, ticktext=ticktext)\n",
    "fig.show()"
   ]
  },
  {
   "cell_type": "markdown",
   "id": "224f4639",
   "metadata": {},
   "source": [
    "Nos casos em que os pacientes não realizaram o teste para o HIV, 23,9% abandonaram o tratamento da tuberculose, enquanto 14,4% abandonaram em caso de resultado negativo e 31% abandonaram em caso de resultado positivo ao teste, ou seja, há uma chance consideravelmente maior para esse último caso."
   ]
  },
  {
   "cell_type": "markdown",
   "id": "f4bd09dd",
   "metadata": {},
   "source": [
    "- #### Tratamento Diretamente Observado (TDO) & Abandono"
   ]
  },
  {
   "cell_type": "code",
   "execution_count": null,
   "id": "4b98e111",
   "metadata": {},
   "outputs": [],
   "source": [
    "fig = px.histogram(df, x=\"tratsup_at\", color=\"abandono\",width=400, height=400)\n",
    "\n",
    "tickvals = [0, 1]\n",
    "ticktext = [\"Não\", \"Sim\"]\n",
    "\n",
    "fig.update_xaxes(tickvals=tickvals, ticktext=ticktext)\n",
    "fig.show()"
   ]
  },
  {
   "cell_type": "markdown",
   "id": "894c9304",
   "metadata": {},
   "source": [
    "Dentre as pessoas com tuberculose que não receberam TDO, 22,6% abandonaram o tratamento, enquanto 10,4% das que receberam abandonaram. Nota-se que ao haver TDO, a chance do abandono é praticamente 2x menor."
   ]
  },
  {
   "cell_type": "markdown",
   "id": "1a9f09dd",
   "metadata": {},
   "source": [
    "- #### Beneficiário de programa de transferência de renda do governo & Abandono"
   ]
  },
  {
   "cell_type": "code",
   "execution_count": null,
   "id": "5868f196",
   "metadata": {},
   "outputs": [],
   "source": [
    "fig = px.histogram(df, x=\"benef_gov\", color=\"abandono\",width=400, height=400)\n",
    "\n",
    "tickvals = [0, 1]\n",
    "ticktext = [\"Não\", \"Sim\"]\n",
    "\n",
    "fig.update_xaxes(tickvals=tickvals, ticktext=ticktext)\n",
    "fig.show()"
   ]
  },
  {
   "cell_type": "markdown",
   "id": "77693aa6",
   "metadata": {},
   "source": [
    "17% dos pacientes que são beneficiários de programas de transferência abandonaram o tratamento, enquanto 16,5% dos que não são abandonaram, portanto não se verifica uma diferença relevante."
   ]
  },
  {
   "cell_type": "markdown",
   "id": "11a253d9",
   "metadata": {},
   "source": [
    "### Conclusão da análise"
   ]
  },
  {
   "cell_type": "markdown",
   "id": "b80987a6",
   "metadata": {},
   "source": [
    "A partir da análise feita, conclui-se que dentre todas as features categóricas do dataset, as seguintes aparentam estar menos relacionadas a uma maior ou menor chance de abandono do tratamento: região de notificação, agravo de doenças mentais (agravdoenc) e beneficiário de programa de transferência de renda do governo (benef_gov). Já as mais relacionadas aparentam ser: tipo de entrada na unidade de saúde (tratamento), agravo do uso de drogas ilícitas (agravdrog) e TDO (tratsup_at).\n",
    "Podemos analisar o grau de dependência entre as variáveis categóricas e a variável alvo (abandono) usando `mutual_info_score`."
   ]
  },
  {
   "cell_type": "code",
   "execution_count": 7,
   "id": "2d3467f1",
   "metadata": {},
   "outputs": [
    {
     "data": {
      "text/html": [
       "<div>\n",
       "<style scoped>\n",
       "    .dataframe tbody tr th:only-of-type {\n",
       "        vertical-align: middle;\n",
       "    }\n",
       "\n",
       "    .dataframe tbody tr th {\n",
       "        vertical-align: top;\n",
       "    }\n",
       "\n",
       "    .dataframe thead th {\n",
       "        text-align: right;\n",
       "    }\n",
       "</style>\n",
       "<table border=\"1\" class=\"dataframe\">\n",
       "  <thead>\n",
       "    <tr style=\"text-align: right;\">\n",
       "      <th></th>\n",
       "      <th>mutual_info_score</th>\n",
       "    </tr>\n",
       "  </thead>\n",
       "  <tbody>\n",
       "    <tr>\n",
       "      <th>tratamento</th>\n",
       "      <td>0.022286</td>\n",
       "    </tr>\n",
       "    <tr>\n",
       "      <th>agravdroga</th>\n",
       "      <td>0.021751</td>\n",
       "    </tr>\n",
       "    <tr>\n",
       "      <th>tratsup_at</th>\n",
       "      <td>0.013449</td>\n",
       "    </tr>\n",
       "    <tr>\n",
       "      <th>hiv</th>\n",
       "      <td>0.008493</td>\n",
       "    </tr>\n",
       "    <tr>\n",
       "      <th>agravalcoo</th>\n",
       "      <td>0.007705</td>\n",
       "    </tr>\n",
       "    <tr>\n",
       "      <th>agravtabac</th>\n",
       "      <td>0.006967</td>\n",
       "    </tr>\n",
       "    <tr>\n",
       "      <th>cs_escol_n</th>\n",
       "      <td>0.005405</td>\n",
       "    </tr>\n",
       "    <tr>\n",
       "      <th>agravaids</th>\n",
       "      <td>0.004563</td>\n",
       "    </tr>\n",
       "    <tr>\n",
       "      <th>cs_sexo</th>\n",
       "      <td>0.003015</td>\n",
       "    </tr>\n",
       "    <tr>\n",
       "      <th>agravdiabe</th>\n",
       "      <td>0.002387</td>\n",
       "    </tr>\n",
       "    <tr>\n",
       "      <th>cs_raca</th>\n",
       "      <td>0.002229</td>\n",
       "    </tr>\n",
       "    <tr>\n",
       "      <th>raiox_tora</th>\n",
       "      <td>0.001473</td>\n",
       "    </tr>\n",
       "    <tr>\n",
       "      <th>reg_not</th>\n",
       "      <td>0.000407</td>\n",
       "    </tr>\n",
       "    <tr>\n",
       "      <th>agravdoenc</th>\n",
       "      <td>0.000062</td>\n",
       "    </tr>\n",
       "    <tr>\n",
       "      <th>benef_gov</th>\n",
       "      <td>0.000006</td>\n",
       "    </tr>\n",
       "  </tbody>\n",
       "</table>\n",
       "</div>"
      ],
      "text/plain": [
       "            mutual_info_score\n",
       "tratamento           0.022286\n",
       "agravdroga           0.021751\n",
       "tratsup_at           0.013449\n",
       "hiv                  0.008493\n",
       "agravalcoo           0.007705\n",
       "agravtabac           0.006967\n",
       "cs_escol_n           0.005405\n",
       "agravaids            0.004563\n",
       "cs_sexo              0.003015\n",
       "agravdiabe           0.002387\n",
       "cs_raca              0.002229\n",
       "raiox_tora           0.001473\n",
       "reg_not              0.000407\n",
       "agravdoenc           0.000062\n",
       "benef_gov            0.000006"
      ]
     },
     "execution_count": 7,
     "metadata": {},
     "output_type": "execute_result"
    }
   ],
   "source": [
    "from sklearn.metrics import mutual_info_score\n",
    "def cat_mut_inf(series):\n",
    "    return mutual_info_score(series, df['abandono']) \n",
    "df_categ = df.drop(['abandono', 'idade'], axis=1)\n",
    "df_cat = df_categ.apply(cat_mut_inf) \n",
    "df_cat = df_cat.sort_values(ascending=False).to_frame(name='mutual_info_score') \n",
    "df_cat"
   ]
  },
  {
   "cell_type": "markdown",
   "id": "116acf18",
   "metadata": {},
   "source": [
    "Verifica-se que os valores mostrados condizem com a análise feita."
   ]
  },
  {
   "cell_type": "markdown",
   "id": "f84c73ba",
   "metadata": {},
   "source": [
    "A partir disso, os testes e treinamentos dos modelos foram feitos no jupyter `modelando.ipynb`."
   ]
  }
 ],
 "metadata": {
  "kernelspec": {
   "display_name": "Python 3 (ipykernel)",
   "language": "python",
   "name": "python3"
  },
  "language_info": {
   "codemirror_mode": {
    "name": "ipython",
    "version": 3
   },
   "file_extension": ".py",
   "mimetype": "text/x-python",
   "name": "python",
   "nbconvert_exporter": "python",
   "pygments_lexer": "ipython3",
   "version": "3.12.3"
  }
 },
 "nbformat": 4,
 "nbformat_minor": 5
}
